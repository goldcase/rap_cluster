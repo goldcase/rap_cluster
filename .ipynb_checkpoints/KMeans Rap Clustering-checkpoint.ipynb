{
 "cells": [
  {
   "cell_type": "code",
   "execution_count": 1,
   "metadata": {
    "collapsed": true
   },
   "outputs": [],
   "source": [
    "import numpy as np\n",
    "import matplotlib.pyplot as plt\n",
    "from sklearn.feature_extraction import DictVectorizer\n",
    "from sklearn.cluster import KMeans\n",
    "from random import shuffle\n",
    "\n",
    "import os, cPickle\n",
    "\n",
    "PROCESSED_DATA_DIR = \"processed_data\""
   ]
  },
  {
   "cell_type": "code",
   "execution_count": 2,
   "metadata": {
    "collapsed": true
   },
   "outputs": [],
   "source": [
    "# K Means attempts to cluster data by splitting data into groups of equal variance.\n",
    "# Requires number of clusters to be specified.\n",
    "# Centroid: mean of cluster.\n",
    "# Aims to choose centroids that minimize the inertia, or intra-cluster sum of squared distance from the mean.\n",
    "\n",
    "# Drawbacks\n",
    "# Note that inertia makes the assumption that clusters are convex and isotropic (identical in all directions).\n",
    "# Inertia responds poorly to elongated clusters.\n",
    "# Inertia is not a normalized metric. PCA can reduce the inflation of Euclidean distances that occur with high-dimensional spaces.\n",
    "# 1. Choose initial centroid, k samples from the dataset.\n",
    "# 2. Assign each sample to its nearest centroid\n",
    "# 3. Create new centroids by taking the mean value of all the samples assigned to each previous centroid.\n",
    "# K means will always converge, but this might be a local minimum, heavily dependent on centroid initialization.\n",
    "# As such, centroid initialization is done several times.\n",
    "\n",
    "# In other words, k-means is EM w/small, all-equal diagonal covar matrix."
   ]
  },
  {
   "cell_type": "code",
   "execution_count": 3,
   "metadata": {
    "collapsed": true
   },
   "outputs": [],
   "source": [
    "def get_data():\n",
    "    ret = []\n",
    "    vec = DictVectorizer()\n",
    "\n",
    "    dirs_list        = next(os.walk(PROCESSED_DATA_DIR))[1]\n",
    "    joined_dirs_list = [os.path.join(PROCESSED_DATA_DIR, d) for d in dirs_list]\n",
    "\n",
    "    for subdir in joined_dirs_list:\n",
    "        # Walk files in every subdirectory.\n",
    "        for root, dirs, files in os.walk(subdir):\n",
    "            for file_item in files:\n",
    "                file_path = os.path.join(subdir, file_item)\n",
    "\n",
    "                # Read file and vectorize lyrics.\n",
    "                with open(file_path) as f:\n",
    "                    ret.append(cPickle.load(f))\n",
    "\n",
    "    return vec.fit_transform(ret).toarray()"
   ]
  },
  {
   "cell_type": "code",
   "execution_count": 4,
   "metadata": {
    "collapsed": true
   },
   "outputs": [],
   "source": [
    "data = get_data()"
   ]
  },
  {
   "cell_type": "code",
   "execution_count": 5,
   "metadata": {
    "collapsed": false
   },
   "outputs": [
    {
     "name": "stdout",
     "output_type": "stream",
     "text": [
      "[[ 0.  0.  0. ...,  0.  0.  0.]\n",
      " [ 0.  0.  0. ...,  0.  0.  0.]\n",
      " [ 0.  0.  0. ...,  0.  0.  0.]\n",
      " ..., \n",
      " [ 0.  0.  0. ...,  0.  0.  0.]\n",
      " [ 0.  0.  0. ...,  0.  0.  0.]\n",
      " [ 0.  0.  0. ...,  0.  0.  0.]]\n"
     ]
    }
   ],
   "source": [
    "print data"
   ]
  },
  {
   "cell_type": "code",
   "execution_count": 6,
   "metadata": {
    "collapsed": true
   },
   "outputs": [],
   "source": [
    "estimator = KMeans(n_jobs=-1)"
   ]
  },
  {
   "cell_type": "code",
   "execution_count": 7,
   "metadata": {
    "collapsed": false
   },
   "outputs": [
    {
     "data": {
      "text/plain": [
       "KMeans(copy_x=True, init='k-means++', max_iter=300, n_clusters=8, n_init=10,\n",
       "    n_jobs=-1, precompute_distances='auto', random_state=None, tol=0.0001,\n",
       "    verbose=0)"
      ]
     },
     "execution_count": 7,
     "metadata": {},
     "output_type": "execute_result"
    }
   ],
   "source": [
    "estimator.fit(data)"
   ]
  },
  {
   "cell_type": "code",
   "execution_count": 9,
   "metadata": {
    "collapsed": false
   },
   "outputs": [
    {
     "data": {
      "text/plain": [
       "array([2, 2, 1, ..., 5, 5, 5], dtype=int32)"
      ]
     },
     "execution_count": 9,
     "metadata": {},
     "output_type": "execute_result"
    }
   ],
   "source": [
    "estimator.fit_predict(data)"
   ]
  },
  {
   "cell_type": "code",
   "execution_count": 11,
   "metadata": {
    "collapsed": false
   },
   "outputs": [
    {
     "data": {
      "text/plain": [
       "2216"
      ]
     },
     "execution_count": 11,
     "metadata": {},
     "output_type": "execute_result"
    }
   ],
   "source": [
    "len(estimator.labels_)"
   ]
  },
  {
   "cell_type": "code",
   "execution_count": 8,
   "metadata": {
    "collapsed": false
   },
   "outputs": [
    {
     "name": "stdout",
     "output_type": "stream",
     "text": [
      "[[  0.00000000e+00   0.00000000e+00   0.00000000e+00 ...,   0.00000000e+00\n",
      "    0.00000000e+00   0.00000000e+00]\n",
      " [  5.61797753e-03   5.61797753e-03  -7.48099499e-18 ...,  -3.74049750e-18\n",
      "   -3.74049750e-18  -1.49619900e-17]\n",
      " [  2.28658537e-03  -1.60461922e-17   1.52439024e-03 ...,   7.62195122e-04\n",
      "    7.62195122e-04   3.04878049e-03]\n",
      " ..., \n",
      " [  6.19834711e-03   2.06611570e-03  -8.89045781e-18 ...,  -4.44522891e-18\n",
      "   -4.44522891e-18  -1.77809156e-17]\n",
      " [  0.00000000e+00   0.00000000e+00   0.00000000e+00 ...,   0.00000000e+00\n",
      "    0.00000000e+00   0.00000000e+00]\n",
      " [  0.00000000e+00   0.00000000e+00   0.00000000e+00 ...,   0.00000000e+00\n",
      "    0.00000000e+00   0.00000000e+00]]\n"
     ]
    }
   ],
   "source": [
    "# Verify center clusters are around 25 and 10.\n",
    "print(estimator.cluster_centers_)"
   ]
  }
 ],
 "metadata": {
  "kernelspec": {
   "display_name": "Python 2",
   "language": "python",
   "name": "python2"
  },
  "language_info": {
   "codemirror_mode": {
    "name": "ipython",
    "version": 2
   },
   "file_extension": ".py",
   "mimetype": "text/x-python",
   "name": "python",
   "nbconvert_exporter": "python",
   "pygments_lexer": "ipython2",
   "version": "2.7.9"
  }
 },
 "nbformat": 4,
 "nbformat_minor": 0
}
