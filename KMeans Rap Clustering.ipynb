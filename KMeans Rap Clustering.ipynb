{
 "cells": [
  {
   "cell_type": "code",
   "execution_count": 26,
   "metadata": {
    "collapsed": true
   },
   "outputs": [],
   "source": [
    "import numpy as np\n",
    "import matplotlib.pyplot as plt\n",
    "from sklearn.feature_extraction import DictVectorizer\n",
    "from sklearn.cluster import KMeans\n",
    "from random import shuffle\n",
    "\n",
    "import os, cPickle\n",
    "\n",
    "PROCESSED_DATA_DIR = \"processed_data\"\n",
    "NUM_CLUSTERS = 30"
   ]
  },
  {
   "cell_type": "code",
   "execution_count": 27,
   "metadata": {
    "collapsed": true
   },
   "outputs": [],
   "source": [
    "# K Means attempts to cluster data by splitting data into groups of equal variance.\n",
    "# Requires number of clusters to be specified.\n",
    "# Centroid: mean of cluster.\n",
    "# Aims to choose centroids that minimize the inertia, or intra-cluster sum of squared distance from the mean.\n",
    "\n",
    "# Drawbacks\n",
    "# Note that inertia makes the assumption that clusters are convex and isotropic (identical in all directions).\n",
    "# Inertia responds poorly to elongated clusters.\n",
    "# Inertia is not a normalized metric. PCA can reduce the inflation of Euclidean distances that occur with high-dimensional spaces.\n",
    "# 1. Choose initial centroid, k samples from the dataset.\n",
    "# 2. Assign each sample to its nearest centroid\n",
    "# 3. Create new centroids by taking the mean value of all the samples assigned to each previous centroid.\n",
    "# K means will always converge, but this might be a local minimum, heavily dependent on centroid initialization.\n",
    "# As such, centroid initialization is done several times.\n",
    "\n",
    "# In other words, k-means is EM w/small, all-equal diagonal covar matrix."
   ]
  },
  {
   "cell_type": "code",
   "execution_count": 28,
   "metadata": {
    "collapsed": true
   },
   "outputs": [],
   "source": [
    "def get_data():\n",
    "    ret = []\n",
    "    file_paths = []\n",
    "    vec = DictVectorizer()\n",
    "\n",
    "    dirs_list        = next(os.walk(PROCESSED_DATA_DIR))[1]\n",
    "    joined_dirs_list = [os.path.join(PROCESSED_DATA_DIR, d) for d in dirs_list]\n",
    "\n",
    "    for subdir in joined_dirs_list:\n",
    "        # Walk files in every subdirectory.\n",
    "        for root, dirs, files in os.walk(subdir):\n",
    "            for file_item in files:\n",
    "                file_path = os.path.join(subdir, file_item)\n",
    "\n",
    "                # Read file and vectorize lyrics.\n",
    "                with open(file_path) as f:\n",
    "                    ret.append(cPickle.load(f))\n",
    "                \n",
    "                file_paths.append(file_path)\n",
    "\n",
    "    return vec.fit_transform(ret).toarray(), file_paths"
   ]
  },
  {
   "cell_type": "code",
   "execution_count": 29,
   "metadata": {
    "collapsed": false
   },
   "outputs": [],
   "source": [
    "data, file_paths = get_data()"
   ]
  },
  {
   "cell_type": "code",
   "execution_count": 30,
   "metadata": {
    "collapsed": false
   },
   "outputs": [],
   "source": [
    "assert(len(data) == len(file_paths))"
   ]
  },
  {
   "cell_type": "code",
   "execution_count": 31,
   "metadata": {
    "collapsed": false
   },
   "outputs": [
    {
     "name": "stdout",
     "output_type": "stream",
     "text": [
      "[[ 0.  0.  0. ...,  0.  0.  0.]\n",
      " [ 0.  0.  0. ...,  0.  0.  0.]\n",
      " [ 0.  0.  0. ...,  0.  0.  0.]\n",
      " ..., \n",
      " [ 0.  0.  0. ...,  0.  0.  0.]\n",
      " [ 0.  0.  0. ...,  0.  0.  0.]\n",
      " [ 0.  0.  0. ...,  0.  0.  0.]]\n"
     ]
    }
   ],
   "source": [
    "print data"
   ]
  },
  {
   "cell_type": "code",
   "execution_count": 32,
   "metadata": {
    "collapsed": true
   },
   "outputs": [],
   "source": [
    "# n_jobs = -1 means that KMeans should be as parallel as possible.\n",
    "estimator = KMeans(n_clusters=NUM_CLUSTERS, n_jobs=-1)"
   ]
  },
  {
   "cell_type": "code",
   "execution_count": 33,
   "metadata": {
    "collapsed": false
   },
   "outputs": [
    {
     "data": {
      "text/plain": [
       "KMeans(copy_x=True, init='k-means++', max_iter=300, n_clusters=30, n_init=10,\n",
       "    n_jobs=-1, precompute_distances='auto', random_state=None, tol=0.0001,\n",
       "    verbose=0)"
      ]
     },
     "execution_count": 33,
     "metadata": {},
     "output_type": "execute_result"
    }
   ],
   "source": [
    "estimator.fit(data)"
   ]
  },
  {
   "cell_type": "code",
   "execution_count": 34,
   "metadata": {
    "collapsed": false
   },
   "outputs": [
    {
     "data": {
      "text/plain": [
       "array([27, 19,  4, ...,  0,  6,  6], dtype=int32)"
      ]
     },
     "execution_count": 34,
     "metadata": {},
     "output_type": "execute_result"
    }
   ],
   "source": [
    "estimator.fit_predict(data)"
   ]
  },
  {
   "cell_type": "code",
   "execution_count": 35,
   "metadata": {
    "collapsed": false
   },
   "outputs": [],
   "source": [
    "song_labels = estimator.labels_\n",
    "songs_by_label = [[] for i in xrange(NUM_CLUSTERS)]\n",
    "\n",
    "for i in xrange(len(data)):\n",
    "    songs_by_label[song_labels[i]].append(file_paths[i])"
   ]
  },
  {
   "cell_type": "code",
   "execution_count": 38,
   "metadata": {
    "collapsed": false
   },
   "outputs": [
    {
     "name": "stdout",
     "output_type": "stream",
     "text": [
      "0: 450\n",
      "1: 1\n",
      "2: 1\n",
      "3: 5\n",
      "4: 285\n",
      "5: 4\n",
      "6: 707\n",
      "7: 6\n",
      "8: 1\n",
      "9: 1\n",
      "10: 5\n",
      "11: 2\n",
      "12: 6\n",
      "13: 7\n",
      "14: 5\n",
      "15: 1\n",
      "16: 3\n",
      "17: 2\n",
      "18: 97\n",
      "19: 299\n",
      "20: 1\n",
      "21: 51\n",
      "22: 75\n",
      "23: 2\n",
      "24: 1\n",
      "25: 5\n",
      "26: 1\n",
      "27: 189\n",
      "28: 1\n",
      "29: 2\n"
     ]
    }
   ],
   "source": [
    "for i in xrange(NUM_CLUSTERS):\n",
    "    print \"{}: {}\".format(i, len(songs_by_label[i]))"
   ]
  },
  {
   "cell_type": "code",
   "execution_count": 39,
   "metadata": {
    "collapsed": false
   },
   "outputs": [
    {
     "name": "stdout",
     "output_type": "stream",
     "text": [
      "['processed_data/2pac/Life Of An Outlaw.txt', 'processed_data/2pac/Me And My Girlfriend.txt', 'processed_data/2pac/My Block (Remix).txt', 'processed_data/2pac/My Closest Roaddogz.txt', 'processed_data/2pac/Po Nigga Blues (Scott Storch Remix).txt', 'processed_data/2pac/Point The Finga.txt', 'processed_data/2pac/Representin 93.txt', 'processed_data/2pac/Shit Dont Stop.txt', 'processed_data/2pac/Sleep.txt', 'processed_data/2pac/Souljas Story.txt', 'processed_data/2pac/Still Ballin.txt', 'processed_data/2pac/Still I Rise.txt', 'processed_data/2pac/Street Fame.txt', 'processed_data/2pac/The Death Of A True Thug.txt', 'processed_data/2pac/Tradin War Stories.txt', 'processed_data/2pac/Under Pressure.txt', 'processed_data/2pac/Untouchable (Swiss Beatz Remix).txt', 'processed_data/2pac/When I Get Free II.txt', 'processed_data/2pac/Wonder Why They Call U.txt', 'processed_data/2pac/Young Black Male.txt', 'processed_data/50cent/50 Bars.txt', 'processed_data/50cent/A Little Bit Of Everything U.T.P..txt', 'processed_data/50cent/All About Dough (Freestyle).txt', 'processed_data/50cent/Animal Ambition.txt', 'processed_data/50cent/Back Down.txt', 'processed_data/50cent/Be A Gentleman.txt', 'processed_data/50cent/Better Come On Your A Game.txt', 'processed_data/50cent/Blood Hound.txt', 'processed_data/50cent/Boomerang (Freestyle).txt', 'processed_data/50cent/Bump Dat Street Mix.txt', 'processed_data/50cent/Business Mind.txt', 'processed_data/50cent/C.R.E.A.M. 2009.txt', 'processed_data/50cent/Clue  50.txt', 'processed_data/50cent/Complicated.txt', 'processed_data/50cent/Corner Bodega.txt', 'processed_data/50cent/Curtis 187.txt', 'processed_data/50cent/Da Repercussions.txt', 'processed_data/50cent/Death To My Enemies.txt', 'processed_data/50cent/Doo Wop Freestyle.txt', 'processed_data/50cent/Double Up.txt', 'processed_data/50cent/Elementry.txt', 'processed_data/50cent/Everytime I Come Around.txt', 'processed_data/50cent/Financial Freedom.txt', 'processed_data/50cent/Flip On You.txt', 'processed_data/50cent/Follow Me Gangster.txt', 'processed_data/50cent/Fully Loaded Clip.txt', 'processed_data/50cent/Funeral Music (Camron Diss).txt', 'processed_data/50cent/Funk Flex.txt', 'processed_data/50cent/G-Unit Soldiers.txt', 'processed_data/50cent/Gatman And Robbin.txt', 'processed_data/50cent/Get In My Car.txt', 'processed_data/50cent/Get The Message.txt', 'processed_data/50cent/Got Me A Bottle.txt', 'processed_data/50cent/Gotta Get Mine.txt', 'processed_data/50cent/Gun Runners.txt', 'processed_data/50cent/Happy New Year.txt', 'processed_data/50cent/High All The Time.txt', 'processed_data/50cent/Hold On.txt', 'processed_data/50cent/Hustlers Ambition.txt', 'processed_data/50cent/I Dont Need Em.txt', 'processed_data/50cent/I Gotta Win.txt', 'processed_data/50cent/I Line Niggas.txt', 'processed_data/50cent/Ill Still Kill.txt', 'processed_data/50cent/Im A Hustler.txt', 'processed_data/50cent/Im An Animal.txt', 'processed_data/50cent/In Da Club.txt', 'processed_data/50cent/In My Hood.txt', 'processed_data/50cent/Irregular Heartbeat.txt', 'processed_data/50cent/Jungle.txt', 'processed_data/50cent/Just Fuckin Around.txt', 'processed_data/50cent/Lay Down (Smoked).txt', 'processed_data/50cent/Love Hate Love (Street King Energy Track 6).txt', 'processed_data/50cent/Man Down.txt', 'processed_data/50cent/Many Men (Wish Death).txt', 'processed_data/50cent/Murder One.txt', 'processed_data/50cent/My Toy Soldier.txt', 'processed_data/50cent/Nah Nah Nah.txt', 'processed_data/50cent/Niggas Be Schemin.txt', 'processed_data/50cent/Non Stop (Street King Energy Track 4).txt', 'processed_data/50cent/Not Rich Still Lyin (The Game Diss).txt', 'processed_data/50cent/NY.txt', 'processed_data/50cent/Off amp On.txt', 'processed_data/50cent/Outlaw.txt', 'processed_data/50cent/Outta Control.txt', 'processed_data/50cent/Pilot.txt', 'processed_data/50cent/Places To Go.txt', 'processed_data/50cent/Position Of Power.txt', 'processed_data/50cent/PT2. amp Bump Heads.txt', 'processed_data/50cent/Remain Calm.txt', 'processed_data/50cent/Rowdy Rowdy.txt', 'processed_data/50cent/Run Up On Me (Freestyle).txt', 'processed_data/50cent/Ryder Music.txt', 'processed_data/50cent/Shootin Guns.txt', 'processed_data/50cent/Ski Mask Way.txt', 'processed_data/50cent/Slow Dough.txt', 'processed_data/50cent/SMS Get The Message (Freestyle).txt', 'processed_data/50cent/Street King Energy Track 8.txt', 'processed_data/50cent/Strong Enough.txt', 'processed_data/50cent/Surrounded By Hoes.txt', 'processed_data/50cent/Talking In Codes.txt', 'processed_data/50cent/That Aint Gangsta.txt', 'processed_data/50cent/The Funeral.txt', 'processed_data/50cent/Then Days Went By.txt', 'processed_data/50cent/This Is 50.txt', 'processed_data/50cent/This Is Murder Not Music.txt', 'processed_data/50cent/To All My Niggas.txt', 'processed_data/50cent/Tony Yayo Explosion.txt', 'processed_data/50cent/Too Hot.txt', 'processed_data/50cent/U Should Be Here.txt', 'processed_data/50cent/Wanksta (Remix).txt', 'processed_data/50cent/When I Come Back (Freestyle).txt', 'processed_data/50cent/When It Rains It Pours.txt', 'processed_data/50cent/Who U Rep With.txt', 'processed_data/50cent/Whoo Kid Freestyle.txt', 'processed_data/50cent/Whoo Kid Kayslay Shit.txt', 'processed_data/50cent/Whoo Kid.txt', 'processed_data/50cent/Window Shopper.txt', 'processed_data/50cent/You A Killer..Cool.txt', 'processed_data/50cent/You Aint No Gangsta.txt', 'processed_data/50cent/You Know.txt', 'processed_data/50cent/You Like Me Better Rich (Freestyle).txt', 'processed_data/50cent/You Took My Heart.txt', 'processed_data/common/Celebrate.txt', 'processed_data/common/Dooinit.txt', 'processed_data/common/Heat.txt', 'processed_data/common/Nuthin To Do.txt', 'processed_data/common/Sweet.txt', 'processed_data/common/The Bitch In Yoo.txt', 'processed_data/delasoul/Big Mouf.txt', 'processed_data/delasoul/Voodoo Circus.txt', 'processed_data/drdre/Bad Intentions.txt', 'processed_data/drdre/Nigga Witta Gun.txt', 'processed_data/drdre/The Wash.txt', 'processed_data/drdre/Whats The Difference.txt', 'processed_data/e40/999999  1  A Mealticket.txt', 'processed_data/e40/Ahhhh Shit.txt', 'processed_data/e40/All My Niggaz.txt', 'processed_data/e40/All Tha Time.txt', 'processed_data/e40/Back amp Forth.txt', 'processed_data/e40/Back In Business.txt', 'processed_data/e40/Behind Gates.txt', 'processed_data/e40/Bitch.txt', 'processed_data/e40/Bootsee.txt', 'processed_data/e40/Broccoli.txt', 'processed_data/e40/Brownie Points.txt', 'processed_data/e40/Carlos Rossi.txt', 'processed_data/e40/Cause I Can.txt', 'processed_data/e40/Choices (Yup).txt', 'processed_data/e40/Club On Lock.txt', 'processed_data/e40/Cutlass.txt', 'processed_data/e40/Day Aint No.txt', 'processed_data/e40/Dirty Deeds.txt', 'processed_data/e40/Doin The Fool.txt', 'processed_data/e40/Drought Season.txt', 'processed_data/e40/Drugs.txt', 'processed_data/e40/Duckin amp Dodgin.txt', 'processed_data/e40/Everyday.txt', 'processed_data/e40/Flamboastin.txt', 'processed_data/e40/From The Ground Up.txt', 'processed_data/e40/Fuck Em.txt', 'processed_data/e40/Gangsterous.txt', 'processed_data/e40/Ghetto Celebrity.txt', 'processed_data/e40/Got It.txt', 'processed_data/e40/Got Rich Twice.txt', 'processed_data/e40/Got That Line.txt', 'processed_data/e40/Graveyard Shift.txt', 'processed_data/e40/Growing Up.txt', 'processed_data/e40/H.I. Double L..txt', 'processed_data/e40/Hes A Gangsta.txt', 'processed_data/e40/Hide n Seek.txt', 'processed_data/e40/Hood Boy.txt', 'processed_data/e40/Hope I Dont Go Back.txt', 'processed_data/e40/I Got Dat Work.txt', 'processed_data/e40/It Is What It Is.txt', 'processed_data/e40/Its Pimpin.txt', 'processed_data/e40/Jump My Bone.txt', 'processed_data/e40/Keep Pimpin.txt', 'processed_data/e40/Knock em Down Music.txt', 'processed_data/e40/Knockin At The Light.txt', 'processed_data/e40/L.I.Q..txt', 'processed_data/e40/Lace Me Up.txt', 'processed_data/e40/Let Him Have It.txt', 'processed_data/e40/Lieutenant Roast A Botch.txt', 'processed_data/e40/Look At Me.txt', 'processed_data/e40/Loyalty And Betrayal.txt', 'processed_data/e40/Mailman.txt', 'processed_data/e40/Mayhem.txt', 'processed_data/e40/Me amp My Bitch.txt', 'processed_data/e40/Memory Lane.txt', 'processed_data/e40/Mob Shit.txt', 'processed_data/e40/My Hoodlumz amp My Thugz.txt', 'processed_data/e40/Outsmart The Po Pos.txt', 'processed_data/e40/Outta Town.txt', 'processed_data/e40/Paint The Picture.txt', 'processed_data/e40/Personal.txt', 'processed_data/e40/Playa.txt', 'processed_data/e40/Practice Lookin Hard.txt', 'processed_data/e40/Punkin Em Out.txt', 'processed_data/e40/Rappers Ball.txt', 'processed_data/e40/Rat Heads.txt', 'processed_data/e40/Rep Yo City.txt', 'processed_data/e40/Ring It.txt', 'processed_data/e40/Rules amp Regulations.txt', 'processed_data/e40/Say I.txt', 'processed_data/e40/Sinister Mob.txt', 'processed_data/e40/Spittin.txt', 'processed_data/e40/Sprinkle Me.txt', 'processed_data/e40/The Element Of Surprise.txt', 'processed_data/e40/The Recipe.txt', 'processed_data/e40/This Shit Pound.txt', 'processed_data/e40/To Da Beat.txt', 'processed_data/e40/To Whom This May Concern.txt', 'processed_data/e40/Trained To Go.txt', 'processed_data/e40/Trapped.txt', 'processed_data/e40/Trump Change.txt', 'processed_data/e40/Yee.txt', 'processed_data/eazye/Boyz-N-The-Hood.txt', 'processed_data/eazye/Its On.txt', 'processed_data/eazye/Just Tah Let U Know.txt', 'processed_data/eazye/Sorry Louie.txt', 'processed_data/eazye/Wut Would You Do.txt', 'processed_data/eminem/As The World Turns.txt', 'processed_data/eminem/Bad Guys Always Die.txt', 'processed_data/eminem/Ballin Uncontrollably.txt', 'processed_data/eminem/Bitch Please II.txt', 'processed_data/eminem/Dead Wrong (Remix).txt', 'processed_data/eminem/Diamond Style.txt', 'processed_data/eminem/Drips.txt', 'processed_data/eminem/Got Next.txt', 'processed_data/eminem/Maxine.txt', 'processed_data/eminem/We As Americans.txt', 'processed_data/eminem/Who Knew.txt', 'processed_data/gangstarr/B.I. Vs Friendship.txt', 'processed_data/gangstarr/Betrayal.txt', 'processed_data/gangstarr/Blowin Up The Spot.txt', 'processed_data/gangstarr/Capture (Malitia Pt. 3).txt', 'processed_data/gangstarr/Deadly Habitz.txt', 'processed_data/gangstarr/Doe In Advance.txt', 'processed_data/gangstarr/Mostly Tha Voice.txt', 'processed_data/gangstarr/No Shame In My Game.txt', 'processed_data/gangstarr/Same Team No Games.txt', 'processed_data/gangstarr/Skills.txt', 'processed_data/gangstarr/Speak Ya Clout.txt', 'processed_data/gangstarr/The Planet.txt', 'processed_data/gangstarr/Tonz O Gunz.txt', 'processed_data/gangstarr/Who Got Gunz.txt', 'processed_data/goodiemob/Live At The O.M.N.I..txt', 'processed_data/icecube/Chrome amp Paint.txt', 'processed_data/icecube/Cold Places.txt', 'processed_data/icecube/Doing Dumb Shit.txt', 'processed_data/icecube/If I Was Fucking You.txt', 'processed_data/icecube/Sic Them Youngins On Em.txt', 'processed_data/icecube/Tomorrow.txt', 'processed_data/icecube/Why We Thugs.txt', 'processed_data/icecube/You Gotta Lotta That.txt', 'processed_data/jayz/A Star Is Born.txt', 'processed_data/jayz/Bitches amp Sisters.txt', 'processed_data/jayz/Can I Live II.txt', 'processed_data/jayz/Chill.txt', 'processed_data/jayz/Dead Presidents (Part 1).txt', 'processed_data/jayz/Excuse Me Miss Again (Remix).txt', 'processed_data/jayz/Hola Hovito.txt', 'processed_data/jayz/Holla.txt', 'processed_data/jayz/If I Should Die.txt', 'processed_data/jayz/Jigga That Nigga.txt', 'processed_data/jayz/Money Aint A Thang.txt', 'processed_data/jayz/Peoples Court.txt', 'processed_data/jayz/Politics As Usual.txt', 'processed_data/jayz/Poppin Tags.txt', 'processed_data/jayz/Rap Game  Crack Game.txt', 'processed_data/jayz/The Best Of Both Worlds.txt', 'processed_data/jayz/The Bounce.txt', 'processed_data/jayz/This Life Forever.txt', 'processed_data/jayz/What We Talkin About.txt', 'processed_data/jayz/You Me Him And Her.txt', 'processed_data/jayz/Youre Only A Customer.txt', 'processed_data/ludacris/1st amp 10.txt', 'processed_data/ludacris/Bada Boom.txt', 'processed_data/ludacris/Catch Up.txt', 'processed_data/ludacris/Charge It To The Rap Game.txt', 'processed_data/ludacris/Eyebrows Down.txt', 'processed_data/ludacris/Go 2 Sleep.txt', 'processed_data/ludacris/Hood Stuck.txt', 'processed_data/ludacris/Hopeless.txt', 'processed_data/ludacris/Party No Mo.txt', 'processed_data/ludacris/Raised In The South.txt', 'processed_data/ludacris/Roll Out (My Business).txt', 'processed_data/ludacris/Southern Gangsta.txt', 'processed_data/ludacris/U Got A Problem.txt', 'processed_data/ludacris/War With God.txt', 'processed_data/lupefiasco/Deliver.txt', 'processed_data/lupefiasco/Gotta Eat.txt', 'processed_data/mclyte/Absolutely Positively... Practical Jokes.txt', 'processed_data/mclyte/Druglord Superstar.txt', 'processed_data/mclyte/Everyday.txt', 'processed_data/nas/A Queens Story.txt', 'processed_data/nas/Back When.txt', 'processed_data/nas/Black Girl Lost.txt', 'processed_data/nas/Come Get Me.txt', 'processed_data/nas/Favor For A Favor.txt', 'processed_data/nas/Got Yourself A Gun.txt', 'processed_data/nas/Hardest Thing Is To Stay Alive.txt', 'processed_data/nas/Life Is What You Make It.txt', 'processed_data/nas/Live Nigga Rap.txt', 'processed_data/nas/One Love.txt', 'processed_data/nas/Peace God.txt', 'processed_data/nas/Represent.txt', 'processed_data/nas/We Will Survive.txt', 'processed_data/nas/What You Gonna Do.txt', 'processed_data/nwa/1-900-2-Compton.txt', 'processed_data/nwa/8 Ball (Remix).txt', 'processed_data/nwa/8 Ball.txt', 'processed_data/nwa/Always Into Somethin.txt', 'processed_data/nwa/Appetite For Destruction.txt', 'processed_data/nwa/Approach To Danger.txt', 'processed_data/nwa/Prelude.txt', 'processed_data/nwa/The Dayz Of Wayback.txt', 'processed_data/outkast/Claimin True.txt', 'processed_data/outkast/Nathaniel.txt', 'processed_data/outkast/Two Dope Boyz (In A Cadillac).txt', 'processed_data/scarface/And Yo.txt', 'processed_data/scarface/Cant Get Right.txt', 'processed_data/scarface/Conspiracy Theory.txt', 'processed_data/scarface/Definition Of Real.txt', 'processed_data/scarface/Dirty Money.txt', 'processed_data/scarface/Do What I Do.txt', 'processed_data/scarface/Dyin WitCha Boots On.txt', 'processed_data/scarface/For Real.txt', 'processed_data/scarface/Forgot About Me.txt', 'processed_data/scarface/Friday Night.txt', 'processed_data/scarface/Fuckn With Face.txt', 'processed_data/scarface/Game Over.txt', 'processed_data/scarface/Gangsta.txt', 'processed_data/scarface/Get Out.txt', 'processed_data/scarface/Goin Down.txt', 'processed_data/scarface/Good Girl Gone Bad.txt', 'processed_data/scarface/Gs.txt', 'processed_data/scarface/Guess Whos Back.txt', 'processed_data/scarface/Hand Of The Dead Body.txt', 'processed_data/scarface/Homies amp Thuggs (Remix).txt', 'processed_data/scarface/Homies amp Thuggs.txt', 'processed_data/scarface/I Aint The One.txt', 'processed_data/scarface/I Never Snitch.txt', 'processed_data/scarface/In And Out.txt', 'processed_data/scarface/In Between Us.txt', 'processed_data/scarface/In My Blood.txt', 'processed_data/scarface/Jesse James.txt', 'processed_data/scarface/Keep Me Down.txt', 'processed_data/scarface/Ma Homiez.txt', 'processed_data/scarface/Money And The Power.txt', 'processed_data/scarface/Mr. Scarface.txt', 'processed_data/scarface/Never Snitch.txt', 'processed_data/scarface/No Tears.txt', 'processed_data/scarface/No Warning.txt', 'processed_data/scarface/On My Grind.txt', 'processed_data/scarface/Only Your Mother.txt', 'processed_data/scarface/Overnight.txt', 'processed_data/scarface/P D Rollem.txt', 'processed_data/scarface/Pass The Itchy.txt', 'processed_data/scarface/Rooted.txt', 'processed_data/scarface/Skrilla.txt', 'processed_data/scarface/Southside Houston Texas.txt', 'processed_data/scarface/Stop Playin.txt', 'processed_data/scarface/Stuck At A Standstill.txt', 'processed_data/scarface/Suicide.txt', 'processed_data/scarface/The Exit Plan.txt', 'processed_data/scarface/The Geto.txt', 'processed_data/scarface/The White Sheet.txt', 'processed_data/scarface/Unexpected.txt', 'processed_data/scarface/Warriors.txt', 'processed_data/scarface/Who Are They.txt', 'processed_data/scarface/Ya Money Or Ya Life.txt', 'processed_data/slickrick/Behind Bars (Dum Ditty Dum Mix).txt', 'processed_data/slickrick/I Own America Part 2.txt', 'processed_data/slickrick/Trapped In Me.txt', 'processed_data/snoopdogg/(Tear Em Off) Me amp My Doggz.txt', 'processed_data/snoopdogg/20 Dollars To My Name.txt', 'processed_data/snoopdogg/630.txt', 'processed_data/snoopdogg/Aint No Fun (If The Homies Cant Have None).txt', 'processed_data/snoopdogg/Brake Fluid (Bitches Pump Yo Brakes).txt', 'processed_data/snoopdogg/Freestyle.txt', 'processed_data/snoopdogg/From Tha Chuuuch To Da Palace.txt', 'processed_data/snoopdogg/G Bedtime Stories.txt', 'processed_data/snoopdogg/G Funk Intro.txt', 'processed_data/snoopdogg/Gangbangn 101.txt', 'processed_data/snoopdogg/Get Bout It amp Rowdy.txt', 'processed_data/snoopdogg/Gin And Juice.txt', 'processed_data/snoopdogg/Hennesey And Buddah.txt', 'processed_data/snoopdogg/Hooked.txt', 'processed_data/snoopdogg/Hustle amp Ball.txt', 'processed_data/snoopdogg/I Luv It.txt', 'processed_data/snoopdogg/I Miss That Bitch.txt', 'processed_data/snoopdogg/Imagine.txt', 'processed_data/snoopdogg/Issues.txt', 'processed_data/snoopdogg/Just Dippin.txt', 'processed_data/snoopdogg/Late Night.txt', 'processed_data/snoopdogg/Lay Low.txt', 'processed_data/snoopdogg/OG.txt', 'processed_data/snoopdogg/Oh No.txt', 'processed_data/snoopdogg/Picture This.txt', 'processed_data/snoopdogg/Platinum.txt', 'processed_data/snoopdogg/Round Here.txt', 'processed_data/snoopdogg/Secrets.txt', 'processed_data/snoopdogg/Signs.txt', 'processed_data/snoopdogg/Slow Down.txt', 'processed_data/snoopdogg/Snoop Bounce.txt', 'processed_data/snoopdogg/Snoops Upside Your Head.txt', 'processed_data/snoopdogg/The Bidness.txt', 'processed_data/snoopdogg/Trust Me.txt', 'processed_data/snoopdogg/U Betta Recognize (Pump Pump Intro).txt', 'processed_data/snoopdogg/Yall Gone Miss Me.txt', 'processed_data/ugk/976-Bun B.txt', 'processed_data/ugk/Choppin Blades.txt', 'processed_data/ugk/Chrome Plated Woman.txt', 'processed_data/ugk/Cocaine In The Back Of The Ride.txt', 'processed_data/ugk/Da Game Been Good To Me.txt', 'processed_data/ugk/Dirty Money.txt', 'processed_data/ugk/Family Affair.txt', 'processed_data/ugk/Feds In Town.txt', 'processed_data/ugk/Front Back amp Side To Side.txt', 'processed_data/ugk/Gold Grill.txt', 'processed_data/ugk/Grind Hard.txt', 'processed_data/ugk/Heaven.txt', 'processed_data/ugk/Hi-Life.txt', 'processed_data/ugk/Its Supposed To Bubble.txt', 'processed_data/ugk/Life Is 2009.txt', 'processed_data/ugk/Murder.txt', 'processed_data/ugk/Next Up.txt', 'processed_data/ugk/One Day.txt', 'processed_data/ugk/PA Nigga.txt', 'processed_data/ugk/Pocket Full Of Stones (Remix).txt', 'processed_data/ugk/Pocket Full Of Stones.txt', 'processed_data/ugk/Return.txt', 'processed_data/ugk/Short Texas.txt', 'processed_data/ugk/Still On The Grind.txt', 'processed_data/ugk/Stop-N-Go.txt', 'processed_data/ugk/Swishas And Dosha.txt', 'processed_data/ugk/The Game Belongs To Me.txt', 'processed_data/ugk/Trill Niggas Dont Die.txt', 'processed_data/ugk/Two Type Of Bitches.txt', 'processed_data/ugk/Underground Kingz.txt', 'processed_data/west/Crack Music.txt', 'processed_data/west/H.A.M.txt', 'processed_data/west/Illest Motherfucker Alive.txt', 'processed_data/west/Looking For Trouble.txt', 'processed_data/west/Midas Touch.txt', 'processed_data/west/New Slaves.txt', 'processed_data/west/Thats My Bitch.txt', 'processed_data/west/Two Words.txt', 'processed_data/west/Why I Love You.txt']\n"
     ]
    }
   ],
   "source": [
    "print songs_by_label[0]"
   ]
  },
  {
   "cell_type": "code",
   "execution_count": 36,
   "metadata": {
    "collapsed": false
   },
   "outputs": [
    {
     "name": "stdout",
     "output_type": "stream",
     "text": [
      "[[  4.44444444e-03  -9.97465999e-18  -8.56519716e-18 ...,  -4.28259858e-18\n",
      "   -4.28259858e-18  -1.71303943e-17]\n",
      " [  0.00000000e+00   0.00000000e+00   0.00000000e+00 ...,   0.00000000e+00\n",
      "    0.00000000e+00   0.00000000e+00]\n",
      " [  0.00000000e+00   0.00000000e+00   0.00000000e+00 ...,   0.00000000e+00\n",
      "    0.00000000e+00   0.00000000e+00]\n",
      " ..., \n",
      " [ -1.12757026e-17   2.81892565e-18  -2.81892565e-18 ...,  -1.40946282e-18\n",
      "   -1.40946282e-18  -5.63785130e-18]\n",
      " [  0.00000000e+00   0.00000000e+00   0.00000000e+00 ...,   0.00000000e+00\n",
      "    0.00000000e+00   0.00000000e+00]\n",
      " [  0.00000000e+00   0.00000000e+00   0.00000000e+00 ...,   0.00000000e+00\n",
      "    0.00000000e+00   0.00000000e+00]]\n"
     ]
    }
   ],
   "source": [
    "# Verify center clusters are around 25 and 10.\n",
    "print(estimator.cluster_centers_)"
   ]
  }
 ],
 "metadata": {
  "kernelspec": {
   "display_name": "Python 2",
   "language": "python",
   "name": "python2"
  },
  "language_info": {
   "codemirror_mode": {
    "name": "ipython",
    "version": 2
   },
   "file_extension": ".py",
   "mimetype": "text/x-python",
   "name": "python",
   "nbconvert_exporter": "python",
   "pygments_lexer": "ipython2",
   "version": "2.7.9"
  }
 },
 "nbformat": 4,
 "nbformat_minor": 0
}
